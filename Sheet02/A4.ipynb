{
 "cells": [
  {
   "cell_type": "markdown",
   "metadata": {},
   "source": [
    "# Sheet 02, Exercise 4\n",
    "Anne, Asli, Fabian"
   ]
  },
  {
   "cell_type": "code",
   "execution_count": 1,
   "metadata": {},
   "outputs": [],
   "source": [
    "import numpy as np\n",
    "import matplotlib.pyplot as plt\n",
    "import matplotlib\n",
    "matplotlib.rcParams[\"figure.figsize\"] = (15,12)\n",
    "%matplotlib inline"
   ]
  },
  {
   "cell_type": "markdown",
   "metadata": {},
   "source": [
    "## a)"
   ]
  },
  {
   "cell_type": "markdown",
   "metadata": {},
   "source": [
    "The equation to describe a unit sphere is $x^1+y^2+z^2=1$\n",
    "\n",
    "So for $x$ the possible values $x \\in [0,1]$\n",
    "\n",
    "For $y$ th epossible values are $y \\in [0,\\sqrt{1-x^2}]$\n",
    "\n",
    "and for $z$ the possible values are $z \\in [0,\\sqrt{1-x^2-y^2}]$\n",
    "\n",
    "The upper limits are therefore\n",
    "\\begin{align}\n",
    "y_1(x) &= \\sqrt{1-x^2} \\\\\n",
    "z_1(x,y) &= \\sqrt{1-x^2-y^2}\n",
    "\\end{align}"
   ]
  },
  {
   "cell_type": "markdown",
   "metadata": {},
   "source": [
    "## b)"
   ]
  },
  {
   "cell_type": "code",
   "execution_count": 4,
   "metadata": {},
   "outputs": [],
   "source": [
    "def trapezoid(f, a, b, N):  # same as in A3\n",
    "    x = np.linspace(a, b, N + 1)  # We want N intervals, so N+1 points\n",
    "    h = (b - a) / N\n",
    "    result = h / 2 * (f(a) + f(b))\n",
    "    result += h * np.sum(f(x[1:-1]))  # exclude first and last value\n",
    "    return result"
   ]
  },
  {
   "cell_type": "code",
   "execution_count": 5,
   "metadata": {},
   "outputs": [],
   "source": [
    "from functools import partial\n",
    "\n",
    "\n",
    "def z1(x, y):\n",
    "    return np.sqrt(\n",
    "        np.clip(1 - x**2 - y**2, 0, None)\n",
    "    )  # clip to avoid sqrt of negative values\n",
    "\n",
    "\n",
    "def G(x):\n",
    "    y1 = np.sqrt(1 - x**2)\n",
    "    F = partial(z1, x)\n",
    "    value = trapezoid(F, 0, y1, 100)\n",
    "    return value"
   ]
  },
  {
   "cell_type": "code",
   "execution_count": 6,
   "metadata": {},
   "outputs": [
    {
     "name": "stdout",
     "output_type": "stream",
     "text": [
      "numerical Volume: 379.8517238000136\n",
      "true Volume: 4.1887902047863905\n"
     ]
    }
   ],
   "source": [
    "V = 8 * trapezoid(G, 0, 1, 100)\n",
    "print(f\"numerical Volume: {V}\")\n",
    "print(f\"true Volume: {4/3 *np.pi}\")"
   ]
  },
  {
   "cell_type": "markdown",
   "metadata": {},
   "source": []
  }
 ],
 "metadata": {
  "kernelspec": {
   "display_name": "base",
   "language": "python",
   "name": "python3"
  },
  "language_info": {
   "codemirror_mode": {
    "name": "ipython",
    "version": 3
   },
   "file_extension": ".py",
   "mimetype": "text/x-python",
   "name": "python",
   "nbconvert_exporter": "python",
   "pygments_lexer": "ipython3",
   "version": "3.11.8"
  }
 },
 "nbformat": 4,
 "nbformat_minor": 2
}
