{
 "cells": [
  {
   "cell_type": "code",
   "execution_count": 129,
   "metadata": {},
   "outputs": [],
   "source": [
    "import numpy as np\n",
    "import math\n",
    "from matplotlib import pyplot as plt"
   ]
  },
  {
   "cell_type": "code",
   "execution_count": 130,
   "metadata": {},
   "outputs": [],
   "source": [
    "Lx=10.0\n",
    "Ly=5.0\n",
    "dx=0.1\n",
    "dy=0.1\n",
    "D=1.0\n",
    "dt=0.001\n",
    "nx=int(Lx/dx)\n",
    "ny=int(Ly/dy)\n",
    "nt=1000"
   ]
  },
  {
   "cell_type": "markdown",
   "metadata": {},
   "source": [
    " requirement ist:    2Ddt/dx**2<1 should be valid\n",
    " \n",
    "Below is the first case with periodic boundary conditions along x and y"
   ]
  },
  {
   "cell_type": "code",
   "execution_count": 131,
   "metadata": {},
   "outputs": [],
   "source": [
    "\n",
    "def initial_first(p):\n",
    "    pin_zeros=p\n",
    "    return pin_zeros\n",
    "\n",
    "def initial_second(p):\n",
    "    p[:,0]=20\n",
    "    p[:,-1]=10\n",
    "    return p\n",
    "\n",
    "def initial_third(p):\n",
    "    x=np.linspace(0,Lx,nx+2)\n",
    "    p[:,0]=20+0.5*(x-5)**2\n",
    "    p[:,-1]=10-0.3*(x-5)**2\n",
    "    return p\n"
   ]
  },
  {
   "cell_type": "markdown",
   "metadata": {},
   "source": [
    "Boundary conditions"
   ]
  },
  {
   "cell_type": "code",
   "execution_count": 132,
   "metadata": {},
   "outputs": [],
   "source": [
    "def boundary_cond_first(p):\n",
    "    p[0,:]=p[-2,:]   #  left along x\n",
    "    p[-1,:]=p[1,:]    #  right along x\n",
    "    p[:,0]=p[:,-1]   #  left along y\n",
    "    p[:,-1]=p[:,1]    #  right along y\n",
    "    return p\n",
    "def boundary_cond_sec_third_fourth(p):\n",
    "    p[0,:]=p[-2,:]   #  left along x\n",
    "    p[-1,:]=p[1,:]    #  right along x\n",
    "    return p\n"
   ]
  },
  {
   "cell_type": "code",
   "execution_count": 133,
   "metadata": {},
   "outputs": [],
   "source": [
    "def FTCS(pzero,initial,boundary_cond):\n",
    "    p=initial(pzero)\n",
    "    p_new=np.copy(p)\n",
    "    for n in range(nt):\n",
    "        p=boundary_cond(p)\n",
    "        for i in range(1,nx+1):\n",
    "            for j in range(1,ny+1):\n",
    "                p_new[i,j]=p[i,j]+D*dt/dx**2*(p[i+1,j]-2.0*p[i,j]+p[i-1,j])+D*dt/dy**2*(p[i,j+1]-2.0*p[i,j]+p[i,j-1])                \n",
    "        p[:] = p_new[:]\n",
    "    return p"
   ]
  },
  {
   "cell_type": "code",
   "execution_count": 134,
   "metadata": {},
   "outputs": [
    {
     "name": "stdout",
     "output_type": "stream",
     "text": [
      "first time [[0. 0. 0. ... 0. 0. 0.]\n",
      " [0. 0. 0. ... 0. 0. 0.]\n",
      " [0. 0. 0. ... 0. 0. 0.]\n",
      " ...\n",
      " [0. 0. 0. ... 0. 0. 0.]\n",
      " [0. 0. 0. ... 0. 0. 0.]\n",
      " [0. 0. 0. ... 0. 0. 0.]]\n",
      "second time [[0. 0. 0. ... 0. 0. 0.]\n",
      " [0. 0. 0. ... 0. 0. 0.]\n",
      " [0. 0. 0. ... 0. 0. 0.]\n",
      " ...\n",
      " [0. 0. 0. ... 0. 0. 0.]\n",
      " [0. 0. 0. ... 0. 0. 0.]\n",
      " [0. 0. 0. ... 0. 0. 0.]]\n",
      "third time [[20.          0.          0.         ...  0.          0.\n",
      "  10.        ]\n",
      " [20.         18.87447931 17.75468246 ...  8.88268875  9.43983611\n",
      "  10.        ]\n",
      " [20.         18.87447931 17.75468246 ...  8.88268875  9.43983611\n",
      "  10.        ]\n",
      " ...\n",
      " [20.         18.87447931 17.75468246 ...  8.88268875  9.43983611\n",
      "  10.        ]\n",
      " [20.         18.87447931 17.75468246 ...  8.88268875  9.43983611\n",
      "  10.        ]\n",
      " [20.          0.          0.         ...  0.          0.\n",
      "  10.        ]]\n"
     ]
    },
    {
     "data": {
      "image/png": "[encoded data removed]",
      "text/plain": [
       "<Figure size 1000x300 with 3 Axes>"
      ]
     },
     "metadata": {},
     "output_type": "display_data"
    }
   ],
   "source": [
    "pin=np.zeros((nx+2,ny+2))\n",
    "print('first time',pin)\n",
    "resulta=FTCS(pin,initial_first,boundary_cond_first)\n",
    "\n",
    "print('second time',pin)\n",
    "\n",
    "pin=np.zeros((nx+2,ny+2))\n",
    "resultb=FTCS(pin,initial_second,boundary_cond_sec_third_fourth)\n",
    "\n",
    "print('third time',pin)\n",
    "pin=np.zeros((nx+2,ny+2))\n",
    "resultc=FTCS(pin,initial_third,boundary_cond_sec_third_fourth)\n",
    "\n",
    "rez0=np.array([U for U in resulta])\n",
    "rez1=np.array([U for U in resultb])\n",
    "rez2=np.array([U for U in resultc])\n",
    "\n",
    "titles=[\"FTCS uniform\",\"FTCS with density range\",\"FTCS with density function\"]\n",
    "\n",
    "fig, ax = plt.subplots(1, 3, figsize=(10, 3))\n",
    "\n",
    "for axi,rezi,title in zip(ax.flat,[rez0,rez1,rez2],titles):\n",
    "    axi.imshow(rezi.T,cmap='viridis')\n",
    "    axi.set_xticks([])\n",
    "    axi.set_yticks([])\n",
    "    axi.set_title(title)\n",
    "fig.suptitle(\"FTCS scheme\",fontsize=14)\n",
    "fig.tight_layout()\n",
    "\n",
    "\n",
    "#fig.colorbar(neg0,ax=ax[0],location='right',anchor=(0, 0.5), shrink=0.3,label='p')\n",
    "#ax[0].set_title('FTCS method uniform')\n",
    "#ax[0].set_ylabel('y')\n",
    "\n",
    "\n",
    "plt.show()"
   ]
  },
  {
   "cell_type": "code",
   "execution_count": null,
   "metadata": {},
   "outputs": [],
   "source": []
  }
 ],
 "metadata": {
  "kernelspec": {
   "display_name": "Python 3",
   "language": "python",
   "name": "python3"
  },
  "language_info": {
   "codemirror_mode": {
    "name": "ipython",
    "version": 3
   },
   "file_extension": ".py",
   "mimetype": "text/x-python",
   "name": "python",
   "nbconvert_exporter": "python",
   "pygments_lexer": "ipython3",
   "version": "3.9.13"
  }
 },
 "nbformat": 4,
 "nbformat_minor": 2
}
