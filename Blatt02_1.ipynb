{
 "cells": [
  {
   "cell_type": "markdown",
   "id": "37f9afb9",
   "metadata": {},
   "source": [
    "# Computational Physics Blatt 02\n",
    "Anne, Fabian und Asliddin "
   ]
  },
  {
   "cell_type": "markdown",
   "id": "cae4dcba",
   "metadata": {},
   "source": [
    "## A1\n",
    "### 1)\n",
    "\n",
    "\n",
    "### 2)\n",
    "Ein Polynom darf höchstens zweiten Grades oder niedriger sein, damit es noch mithilfe des Simpsonsregel exakt integriert werden kann (siehe VL)."
   ]
  },
  {
   "cell_type": "markdown",
   "id": "0e3255f2",
   "metadata": {},
   "source": [
    "## A2"
   ]
  },
  {
   "cell_type": "code",
   "execution_count": 8,
   "id": "a75ec60c",
   "metadata": {},
   "outputs": [],
   "source": [
    "import numpy as np\n",
    "import matplotlib.pyplot as plt\n",
    "import matplotlib\n",
    "matplotlib.rcParams[\"figure.figsize\"] = (15,12)\n",
    "%matplotlib inline"
   ]
  }
 ],
 "metadata": {
  "kernelspec": {
   "display_name": "Python 3 (ipykernel)",
   "language": "python",
   "name": "python3"
  },
  "language_info": {
   "codemirror_mode": {
    "name": "ipython",
    "version": 3
   },
   "file_extension": ".py",
   "mimetype": "text/x-python",
   "name": "python",
   "nbconvert_exporter": "python",
   "pygments_lexer": "ipython3",
   "version": "3.11.8"
  }
 },
 "nbformat": 4,
 "nbformat_minor": 5
}
