{
 "cells": [
  {
   "cell_type": "markdown",
   "id": "37f9afb9",
   "metadata": {},
   "source": [
    "# Computational Physics Blatt 02\n",
    "Anne, Fabian und Asliddin "
   ]
  },
  {
   "cell_type": "markdown",
   "id": "cae4dcba",
   "metadata": {},
   "source": [
    "## A1\n",
    "### 1) Die Genauigkeit variiert je nach Funktion. Allgemein lässt sich allerdings die Simpsons Regel zur genaueren Berechnung verwenden. Welches Verfahren besser ist, lässt sich nicht verallgemeinern, sondern ist abhängig von der Funktion. \n",
    "\n",
    "\n",
    "### 2) Ein Polynom darf höchstens zweiten Grades oder niedriger sein, damit es noch mithilfe des Simpsonsregel exakt integriert werden kann."
   ]
  }
 ],
 "metadata": {
  "kernelspec": {
   "display_name": "Python 3 (ipykernel)",
   "language": "python",
   "name": "python3"
  },
  "language_info": {
   "codemirror_mode": {
    "name": "ipython",
    "version": 3
   },
   "file_extension": ".py",
   "mimetype": "text/x-python",
   "name": "python",
   "nbconvert_exporter": "python",
   "pygments_lexer": "ipython3",
   "version": "3.11.8"
  }
 },
 "nbformat": 4,
 "nbformat_minor": 5
}
