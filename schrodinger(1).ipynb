{
 "cells": [
  {
   "cell_type": "code",
   "execution_count": 1,
   "metadata": {},
   "outputs": [],
   "source": [
    "import numpy as np\n",
    "from matplotlib import pyplot as plt\n",
    "import math\n",
    "from numpy.linalg import inv\n"
   ]
  },
  {
   "cell_type": "markdown",
   "metadata": {},
   "source": [
    "# a)"
   ]
  },
  {
   "cell_type": "markdown",
   "metadata": {},
   "source": [
    "\\begin{equation}\n",
    "i\\hbar \\partial_t\\psi(x,t)=\\left(-\\frac{\\hbar^2}{2m} \\vec{\\nabla}^2+\\frac{1}{2}m\\omega^2x^2 \\right)\\psi(x,t)=\\hat{H}\\psi(x,t) \\tag{1}\n",
    "\\end{equation}\n",
    "\n",
    "take out $\\frac{\\omega \\hbar}{2}$ from right hand side:\n",
    "\n",
    "\\begin{equation}\n",
    "i\\hbar \\partial_t\\psi(x,t)=\\frac{\\omega \\hbar}{2}\\left(-\\frac{\\hbar}{m\\omega} \\vec{\\nabla}^2+\\frac{m\\omega}{\\hbar}x^2 \\right)\\psi(x,t)=\\hat{H}\\psi(x,t)  \\tag{2}\n",
    "\\end{equation}\n",
    "\n",
    "We devide above equation by $\\hbar$. Then, introducing  $\\alpha^2=\\frac{m \\omega}{\\hbar}$, we get\n",
    "\n",
    "\\begin{equation}\n",
    "i\\partial_t\\psi(x,t)=\\frac{\\omega}{2}\\left(-\\frac{1}{\\alpha^2} \\frac{\\partial^2}{\\partial x^2} +\\alpha^2x^2 \\right)\\psi(x,t)=\\frac{1}{\\hbar}\\hat{H}\\psi(x,t)  \\tag{3}\n",
    "\\end{equation}\n",
    "\n",
    "Multipling  with   $2/\\omega$ and introducing new variables $\\xi=\\alpha x$, $\\tau=\\frac{\\omega t}{2}$ we get:\n",
    "\n",
    "\\begin{equation}\n",
    "i\\partial_\\tau\\psi=\\left(- \\frac{\\partial^2}{\\partial \\xi^2} +\\xi^2 \\right)\\psi=\\frac{2}{\\hbar\\omega} \\hat{H}\\psi=\\hat{\\tilde{H}}\\psi   \\tag{4}\n",
    "\\end{equation}\n",
    "where $\\hat{\\tilde{H}}=\\frac{2}{\\hbar\\omega} \\hat{H}$. Hence $\\beta=\\frac{2}{\\hbar\\omega}$.\n",
    "\n"
   ]
  },
  {
   "cell_type": "markdown",
   "metadata": {},
   "source": [
    "# b)"
   ]
  },
  {
   "cell_type": "code",
   "execution_count": 2,
   "metadata": {},
   "outputs": [
    {
     "name": "stdout",
     "output_type": "stream",
     "text": [
      "201\n"
     ]
    }
   ],
   "source": [
    "ksi_l=-10\n",
    "ksi_r=10\n",
    "dksi=0.1    # correspond to delta x\n",
    "dtau=0.005   #correspond to delta t\n",
    "xi = np.arange(ksi_l, ksi_r + dksi, dksi)  # range is from -10 to 10 with 0.1 step. 10 is alos included\n",
    "Nx = len(xi)    #number of steps\n",
    "Nt=201   #number of time steps\n",
    "print(Nx)\n",
    "I = np.eye(Nt,dtype=complex)\n"
   ]
  },
  {
   "cell_type": "code",
   "execution_count": 3,
   "metadata": {},
   "outputs": [],
   "source": [
    "H=np.zeros((Nt,Nx),dtype=complex)"
   ]
  },
  {
   "cell_type": "code",
   "execution_count": 4,
   "metadata": {},
   "outputs": [],
   "source": [
    "def Hamilton(N_time,N_xi):\n",
    "\n",
    "    for n in range(N_time):\n",
    "        for m in range(N_xi):\n",
    "            if m==n-1:\n",
    "                H[n,n-1]=-1/dksi**2\n",
    "            if m==n+1:\n",
    "                H[n,n+1]=-1/dksi**2\n",
    "            H[n,m]=2/dksi**2+dksi**2*n**2\n",
    "    return H\n"
   ]
  },
  {
   "cell_type": "code",
   "execution_count": 5,
   "metadata": {},
   "outputs": [
    {
     "name": "stdout",
     "output_type": "stream",
     "text": [
      "(0.9940360270787868+3.557023822946105e-05j) (0.9821080812364633+0.00010671071473848456j)\n",
      "Size of the matrix (201, 201)\n"
     ]
    }
   ],
   "source": [
    "Mat_min=I-1j*Hamilton(Nt,Nx)*dtau/2\n",
    "Mat_plus=I+1j*Hamilton(Nt,Nx)*dtau/2\n",
    "\n",
    "S_H=np.linalg.inv(Mat_min)@Mat_plus   # @ is the same as np.dot()\n",
    "print(S_H[0][0],S_H[-1][-1])\n",
    "print(\"Size of the matrix\",S_H.shape)"
   ]
  },
  {
   "cell_type": "code",
   "execution_count": 6,
   "metadata": {},
   "outputs": [],
   "source": [
    "def wave_func(N_t,psi_0):\n",
    "    psi_new=np.copy(psi_0)\n",
    "    for n in range(N_t):\n",
    "        #psi_new=np.dot(S_H,psi_new)\n",
    "        psi_new=S_H@psi_new\n",
    "        norm_each=np.sum(np.abs(psi_new)**2)*dksi\n",
    "        print(\"Check if psi is normalized in each step=\",norm_each)\n",
    "    return psi_new\n"
   ]
  },
  {
   "cell_type": "markdown",
   "metadata": {},
   "source": [
    "# c)"
   ]
  },
  {
   "cell_type": "code",
   "execution_count": 7,
   "metadata": {},
   "outputs": [
    {
     "data": {
      "image/png": "[encoded data removed]",
      "text/plain": [
       "<Figure size 640x480 with 1 Axes>"
      ]
     },
     "metadata": {},
     "output_type": "display_data"
    }
   ],
   "source": [
    "psi0=(1/2/np.pi)**0.25*np.exp(-(xi-1)**2/4)\n",
    "plt.plot(xi,psi0,'*')\n",
    "plt.axvline(x = 1, color = 'black', label = 'axvline - full height')\n",
    "plt.ylabel(r'$\\psi_0 (\\xi,0)$')\n",
    "plt.xlabel(r'$\\xi$')\n",
    "plt.ylim(0,0.65)\n",
    "plt.show()\n"
   ]
  },
  {
   "cell_type": "markdown",
   "metadata": {},
   "source": [
    "Discretization is done from -10 to 10 with 0.1 steps with 201 steps\n",
    "$\\xi_j=j\\Delta \\xi$\n"
   ]
  },
  {
   "cell_type": "code",
   "execution_count": 8,
   "metadata": {},
   "outputs": [
    {
     "name": "stdout",
     "output_type": "stream",
     "text": [
      "Norm of wave function= 1.0000000000000033\n"
     ]
    }
   ],
   "source": [
    "\n",
    "norm=np.sum(np.abs(psi0)**2)*dksi\n",
    "print(\"Norm of wave function=\",norm)\n"
   ]
  },
  {
   "cell_type": "markdown",
   "metadata": {},
   "source": [
    "# d)"
   ]
  },
  {
   "cell_type": "code",
   "execution_count": 9,
   "metadata": {},
   "outputs": [
    {
     "name": "stdout",
     "output_type": "stream",
     "text": [
      "Check if psi is normalized in each step= 1.1606877561151678\n",
      "Check if psi is normalized in each step= 1.0000228628071102\n",
      "Check if psi is normalized in each step= 1.160642033754007\n",
      "Check if psi is normalized in each step= 1.0000914382170583\n",
      "Check if psi is normalized in each step= 1.1605506150524005\n",
      "Check if psi is normalized in each step= 1.000205687203338\n",
      "Check if psi is normalized in each step= 1.1604135520370567\n",
      "Check if psi is normalized in each step= 1.0003655447464423\n",
      "Check if psi is normalized in each step= 1.1602309227110277\n",
      "Check if psi is normalized in each step= 1.0005709198708748\n",
      "Last result also= 1.0005709198708748\n"
     ]
    }
   ],
   "source": [
    "#psi[0]=psi0\n",
    "tau=10\n",
    "psi_new=wave_func(tau,psi0)\n",
    "norm_last=np.sum(np.abs(psi_new)**2)*dksi\n",
    "print(\"Last result also=\",norm_last)\n",
    "\n",
    "\n"
   ]
  },
  {
   "cell_type": "code",
   "execution_count": null,
   "metadata": {},
   "outputs": [],
   "source": []
  }
 ],
 "metadata": {
  "kernelspec": {
   "display_name": "Python 3",
   "language": "python",
   "name": "python3"
  },
  "language_info": {
   "codemirror_mode": {
    "name": "ipython",
    "version": 3
   },
   "file_extension": ".py",
   "mimetype": "text/x-python",
   "name": "python",
   "nbconvert_exporter": "python",
   "pygments_lexer": "ipython3",
   "version": "3.9.13"
  }
 },
 "nbformat": 4,
 "nbformat_minor": 2
}
