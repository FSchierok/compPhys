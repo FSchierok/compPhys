{
 "cells": [
  {
   "cell_type": "code",
   "execution_count": 155,
   "id": "cab75627-85ef-488e-a1bd-ddfd19d8c97e",
   "metadata": {},
   "outputs": [],
   "source": [
    "import numpy as np\n",
    "import matplotlib.pyplot as plt"
   ]
  },
  {
   "cell_type": "markdown",
   "id": "e7fe903d-0a7f-4154-a084-0f05892ac958",
   "metadata": {},
   "source": [
    "# a )\n",
    "$x^2+y^2+z^2=1$\n",
    "\n",
    "x$\\in$ [0,1]\n",
    "\n",
    "y$\\in[0,\\sqrt{1-x^2}]$\n",
    "\n",
    "z$\\in[0,\\sqrt{1-x^2-y^2}]$\n",
    "\n",
    "so\n",
    "\n",
    "y$_1$(x)=$\\sqrt{1-x^2}$ $\\tag{1}$\n",
    "\n",
    "z$_1$(x,y)=$\\sqrt{1-x^2-y^2}$  $\\tag{2}$\n",
    "\n",
    "So we need to integrate\n",
    "\\begin{equation}\n",
    "V=8\\int_0^1dx\\int_0^{\\sqrt{1-x^2}}dy\\int_0^{\\sqrt{1-x^2-y^2}}dz   \\tag{3}\n",
    "\\end{equation}"
   ]
  },
  {
   "cell_type": "markdown",
   "id": "166e6acc-5e62-4e64-9a54-ff224c64aeb9",
   "metadata": {},
   "source": [
    "# b)\n",
    "Integral over $z$ is simple \n",
    "\\begin{equation}\n",
    "F(x,y)=\\int_0^{\\sqrt{1-x^2-y^2}}dz =\\sqrt{1-x^2-y^2}  \\tag{4}\n",
    "\\end{equation}"
   ]
  },
  {
   "cell_type": "markdown",
   "id": "f4d88010-4c4c-44c3-bcaa-a131309f8886",
   "metadata": {},
   "source": [
    "Then\n",
    "\\begin{equation}\n",
    "G(x)=\\int_0^{\\sqrt{1-x^2}}\\sqrt{1-x^2-y^2}dy \\tag{5}\n",
    "\\end{equation}"
   ]
  },
  {
   "cell_type": "code",
   "execution_count": 156,
   "id": "30885814-3ea2-40b5-9080-07948863f341",
   "metadata": {},
   "outputs": [],
   "source": [
    "def Integ_underdy(x,y):\n",
    "    return np.sqrt(1-x**2-y**2)"
   ]
  },
  {
   "cell_type": "markdown",
   "id": "11c8edaa-8c2a-4aad-b120-2759639f0c72",
   "metadata": {},
   "source": [
    "# c)\n",
    "Numerical calculation of Volume by Trapezoidal rule"
   ]
  },
  {
   "cell_type": "code",
   "execution_count": 157,
   "id": "c0e36a31-8852-463a-a706-f639552a6702",
   "metadata": {},
   "outputs": [],
   "source": [
    "def Traped(func,h):\n",
    "    result=h/2.0*(func[0]+func[-1])+h*np.sum(func[1:-1])\n",
    "    return result"
   ]
  },
  {
   "cell_type": "code",
   "execution_count": 158,
   "id": "9b1230cd-3688-4a82-a7d1-ef85b8b27a07",
   "metadata": {},
   "outputs": [
    {
     "name": "stdout",
     "output_type": "stream",
     "text": [
      "4.187092098813584\n"
     ]
    }
   ],
   "source": [
    "x_step=np.linspace(0,1,100)     # fixed N=100 steps for x and y\n",
    "G_elements = np.zeros_like(x_step)\n",
    "for i in range(100):\n",
    "    x=x_step[i]\n",
    "    y_step=np.linspace(0,np.sqrt(1-x**2),100)   # we calculate y_i for each x\n",
    "    F=np.sqrt(np.clip(1-x**2-y_step**2,0,None))      # and F(x,y) also calculated for each x_i and y_i\n",
    "    h=y_step[1]-y_step[0]       #interval   length\n",
    "    G=Traped(F,h)       \n",
    "    G_elements[i]=G                              # we store each element of G(x) here\n",
    "h_x=x_step[1]-x_step[0]                   # again step interval for x\n",
    "Res=Traped(G_elements,h_x)        # trapezoidal rule for final integral over x\n",
    "Numer_Res=8.0*Res\n",
    "print(Numer_Res)"
   ]
  },
  {
   "cell_type": "code",
   "execution_count": 159,
   "id": "bc83cc67-8a81-46c9-a8d7-ea6d4ad6420a",
   "metadata": {},
   "outputs": [
    {
     "name": "stdout",
     "output_type": "stream",
     "text": [
      "4.1887902047863905\n"
     ]
    }
   ],
   "source": [
    "Exact=4.0/3.0 *np.pi\n",
    "print(Exact)"
   ]
  },
  {
   "cell_type": "code",
   "execution_count": 160,
   "id": "bb01e24a-3f18-4e15-a040-58ce151ec52b",
   "metadata": {},
   "outputs": [
    {
     "name": "stdout",
     "output_type": "stream",
     "text": [
      "0.0004053929391990939\n"
     ]
    }
   ],
   "source": [
    "Relative_err=abs(Numer_Res-Exact)/Exact\n",
    "print(Relative_err)"
   ]
  },
  {
   "cell_type": "markdown",
   "id": "4ddd83bc-f74e-4619-abac-a3b82c731831",
   "metadata": {
    "tags": []
   },
   "source": [
    "# d)"
   ]
  },
  {
   "cell_type": "code",
   "execution_count": null,
   "id": "ddd2cb3e-fb48-4a7e-a60c-2e0ad0408c3f",
   "metadata": {},
   "outputs": [],
   "source": [
    "from timeit import default_timer as timer\n",
    "time_taken=[]\n",
    "Result_for_diff_N=[]\n",
    "Intervals=[]\n",
    "for N in range(10,80000,5000):\n",
    "    start = timer()\n",
    "    x_step=np.linspace(0,1,N)     # fixed N=100 steps for x and y\n",
    "    G_elements = np.zeros_like(x_step)\n",
    "    for i in range(N):\n",
    "        x=x_step[i]\n",
    "        y_step=np.linspace(0,np.sqrt(1-x**2),N)   # we calculate y_i for each x\n",
    "        F=np.sqrt(np.clip(1-x**2-y_step**2,0,None))      # and F(x,y) also calculated for each x_i and y_i\n",
    "        h=y_step[1]-y_step[0]       #interval   length\n",
    "        G=Traped(F,h)       \n",
    "        G_elements[i]=G                              # we store each element of G(x) here\n",
    "    h_x=x_step[1]-x_step[0]                   # again step interval for x\n",
    "    Res=Traped(G_elements,h_x)        # trapezoidal rule for final integral over x\n",
    "    Numer_Res=8.0*Res\n",
    "    Result_for_diff_N.append(Numer_Res)\n",
    "    Intervals.append(N)\n",
    "    end = timer()\n",
    "    time_taken.append(end-start)\n",
    " "
   ]
  },
  {
   "cell_type": "code",
   "execution_count": 165,
   "id": "777059e5-f4cc-4680-a53b-89735c55c0f0",
   "metadata": {},
   "outputs": [
    {
     "data": {
      "image/png": "[encoded data removed]",
      "text/plain": [
       "<Figure size 500x400 with 1 Axes>"
      ]
     },
     "metadata": {},
     "output_type": "display_data"
    }
   ],
   "source": [
    "fig,ax=plt.subplots(nrows=1,ncols=1,figsize=(5,4))\n",
    "ax.plot(Intervals,time_taken,'*',label='calculation time by Trapezoid rule')\n",
    "ax.set_title('Calculation time dependence on Intervals')\n",
    "ax.set_ylabel('t (s)')\n",
    "ax.set_xlabel('N')\n",
    "ax.legend(loc='best')\n",
    "plt.grid()\n",
    "fig.tight_layout()\n",
    "plt.savefig(\"Auf4.pdf\", bbox_inches='tight', dpi=1000)\n",
    "plt.show()\n"
   ]
  },
  {
   "cell_type": "code",
   "execution_count": null,
   "id": "0ec26282-77ee-43f2-99d2-19dec2615b63",
   "metadata": {},
   "outputs": [],
   "source": []
  }
 ],
 "metadata": {
  "kernelspec": {
   "display_name": "Python 3 (ipykernel)",
   "language": "python",
   "name": "python3"
  },
  "language_info": {
   "codemirror_mode": {
    "name": "ipython",
    "version": 3
   },
   "file_extension": ".py",
   "mimetype": "text/x-python",
   "name": "python",
   "nbconvert_exporter": "python",
   "pygments_lexer": "ipython3",
   "version": "3.9.13"
  }
 },
 "nbformat": 4,
 "nbformat_minor": 5
}
