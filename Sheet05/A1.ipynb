{
 "cells": [
  {
   "cell_type": "code",
   "execution_count": 1,
   "metadata": {},
   "outputs": [],
   "source": [
    "import numpy as np\n",
    "from MD_template import Potential\n",
    "from MD_template import MD as MDTemplate\n",
    "from MD_template import NoThermostat as NoThermTemplate\n",
    "from MD_template import IsokinThermostat as IsoThermTemplate\n",
    "\n",
    "import matplotlib.pyplot as plt\n",
    "import matplotlib.animation as animation\n",
    "\n",
    "EPSILON = 1\n",
    "SIGMA = 1\n",
    "H = 0.01\n",
    "MASS = 1\n",
    "rng = np.random.default_rng(seed=1337)"
   ]
  },
  {
   "cell_type": "code",
   "execution_count": 2,
   "metadata": {},
   "outputs": [],
   "source": [
    "class LennardJones(Potential):\n",
    "    def __init__(self, epsilon=EPSILON, sigma=SIGMA):\n",
    "        self.epsilon = epsilon\n",
    "        self.sigma = sigma\n",
    "        self.sigma6 = self.sigma**6  # Trade memory for cpu cycles\n",
    "        self.sigma12 = self.sigma**12  # Trade memory for cpu cycles\n",
    "\n",
    "    def F(self, r, *args, **kwargs):\n",
    "        norm = np.linalg.norm(r, axis=-1)[..., None]  # last axis is the x/y components\n",
    "        return (\n",
    "            48\n",
    "            * self.epsilon\n",
    "            * (\n",
    "                self.sigma12 / norm**14 - 0.5 * self.sigma6 / norm**8\n",
    "            )  # we divide by one power of r more to normalize the vector\n",
    "            * r\n",
    "        )\n",
    "\n",
    "    def F2(self, r2, *args, **kwargs):\n",
    "        # Force as a function of r^2\n",
    "        return (\n",
    "            48\n",
    "            * self.epsilon\n",
    "            * (self.sigma12 / r2**7 - 0.5 * self.sigma6 / r2**4)\n",
    "            * np.sqrt(r2)\n",
    "        )  # we divide by one power of r to much\n",
    "\n",
    "    def V(self, r1, r2, *args, **kwargs):\n",
    "        delta = r1 - r2\n",
    "        r = np.linalg.norm(delta)\n",
    "        return 4 * self.epsilon * (self.sigma12 / r**13 - self.sigma6 / r**7) * delta\n",
    "\n",
    "    def V2(self, r2, *args, **kwargs):\n",
    "        # Potential as a function of r^2\n",
    "        return 4 * self.epsilon * (self.sigma12 / r2**6 - self.sigma6 / r2**3)\n",
    "\n",
    "\n",
    "class NoThermostat(NoThermTemplate):\n",
    "    def rescale(self, v, T):\n",
    "        return v\n",
    "\n",
    "\n",
    "class IsokinThermostat(IsoThermTemplate):\n",
    "    def rescale(self, v, T):\n",
    "        return v * np.sqrt(self.T_target / T)"
   ]
  },
  {
   "cell_type": "code",
   "execution_count": 3,
   "metadata": {},
   "outputs": [],
   "source": [
    "class MD(MDTemplate):\n",
    "    def __init__(self, L, N, T, potential, r_cut, thermostat, numBins, rng=rng):\n",
    "        super().__init__(L, N, T, potential, thermostat, numBins)\n",
    "        self.r_cut = r_cut  # Cutoff radius for the force calculation\n",
    "        self.rng = rng\n",
    "        xs = np.arange(start=SIGMA, stop=(np.sqrt(N) + 1) * SIGMA, step=SIGMA)\n",
    "        xx, yy = np.meshgrid(xs, xs)\n",
    "        x_flat = xx.reshape(-1)\n",
    "        y_flat = yy.reshape(-1)\n",
    "        self.r = np.stack([x_flat, y_flat]).T\n",
    "        self.v = rng.uniform(low=-1, high=1, size=(N, 2)) * SIGMA\n",
    "        self.v -= np.mean(self.v, axis=0)  # Set center-of-mass velocity to 0\n",
    "\n",
    "    def _verlet_step(self, dt):\n",
    "        # velocity Verlet\n",
    "        an = self._calc_Acc()  # a_n\n",
    "        self.r += self.v * dt + 0.5 * an * dt**2\n",
    "        # periodic boundary conditions\n",
    "        self.r = np.mod(self.r, self.L)\n",
    "        self.t += dt\n",
    "        an1 = self._calc_Acc()  # a_(n+1)\n",
    "        self.v += 0.5 * (an + an1) * dt\n",
    "        self.v = self.thermostat.rescale(self.v, self._calc_T())\n",
    "\n",
    "    def _calc_Ekin(self):\n",
    "        return 0.5 * MASS * np.mean(np.square(self.v), axis=1).sum()\n",
    "\n",
    "    def _calc_Epot(self, r2):\n",
    "        return (\n",
    "            np.sum(self.potential.V2(r2)) / 2\n",
    "        )  # to compensate ij and ji both being summed up\n",
    "\n",
    "    def _calc_T(self, Ekin=None):\n",
    "        # returns kBT\n",
    "        if Ekin is None:\n",
    "            Ekin = self._calc_Ekin()\n",
    "        return 2 * Ekin / (self.N * 2)\n",
    "\n",
    "    def _calc_vCOM(self):\n",
    "        return np.mean(self.v, axis=0)\n",
    "\n",
    "    def _calc_DistanceVectors(self):\n",
    "        # This line calculates the distance vectors between all pairs of points in self.r.\n",
    "        # It first reshapes self.r from (N, 2) to (N, 1, 2) using np.newaxis, and then subtracts self.r reshaped to (1, N, 2).\n",
    "        # This uses broadcasting to create a 3D array of shape (N, N, 2), where the element at index (i, j) is the distance vector from self.r[i] to self.r[j].\n",
    "        # Thanks Copilot, love you\n",
    "        dist = self.r[:, np.newaxis] - self.r[np.newaxis, :]\n",
    "        return dist\n",
    "\n",
    "    def _calc_SquareDistances(self):\n",
    "        dists = np.square(np.linalg.norm(self._calc_DistanceVectors(), axis=2))\n",
    "        return dists[dists != 0]  # remove the i=j entries\n",
    "\n",
    "    def _calc_Acc(self):\n",
    "        # n1, n2 = np.meshgrid(range(self.r_cut), range(self.r_cut))\n",
    "        # n1 = n1.flatten()\n",
    "        # n2 = n2.flatten()\n",
    "        # n = np.stack([n1, n2]).transpose(1, 0)\n",
    "        ## uhaogae (= unholy alliance of good and evil) is a 4d array (i,j,k,l), where i and j are the indices of the particles, and k is the index of n and l is the x/y component of the vector.\n",
    "        ## It contains the distance of particle i to the n-th virtual image of particle j\n",
    "        # uhaogae = self.r[None, :, None, :] - (\n",
    "        #    self.r[:, None, None, :] + n[None, None, :, :]\n",
    "        # )\n",
    "        # dists = np.linalg.norm(uhaogae, axis=3)\n",
    "        # mask_dist = dists < self.r_cut\n",
    "        ##        mask_dist = np.repeat(\n",
    "        ##            mask_dist[:, :, None, :], 2, axis=3\n",
    "        ##        )  # repeat the mask for the x and y component\n",
    "        # uhaogae[~mask_dist] = np.NAN  # set all distances that are too large to nan\n",
    "        # mask_diag = np.broadcast_to(\n",
    "        #    np.eye(self.N, dtype=bool)[:, :, None, None], uhaogae.shape\n",
    "        # )\n",
    "        ##        mask_diag = np.repeat(mask_diag, 2, axis=3)\n",
    "        # uhaogae[mask_diag] = np.NAN  # set all distances where i=j to nan\n",
    "        # virtual_forces = self.potential.F(uhaogae)\n",
    "        # return (\n",
    "        #    np.nansum(virtual_forces, axis=(1, 2)) / MASS\n",
    "        # )  # sum over all other particles and all virtual images of them\n",
    "        return self.potential.F(self.r)\n",
    "\n",
    "    def _update_data(self, i, g=False):\n",
    "        r2 = self._calc_SquareDistances()\n",
    "        self.data[\"t\"][i] = self.t\n",
    "        self.data[\"Ekin\"][i] = self._calc_Ekin()\n",
    "        self.data[\"T\"][i] = self._calc_T(Ekin=self.data[\"Ekin\"][i])\n",
    "        self.data[\"Epot\"][i] = self._calc_Epot(r2)\n",
    "        self.data[\"vCOMx\"][i], self.data[\"vCOMy\"][i] = self._calc_vCOM()\n",
    "        if g:  # only compute g(r) when its needed\n",
    "            self.data[\"g\"] = np.histogram(\n",
    "                np.sqrt(r2[~np.isnan(r2)]), bins=self.numBins, density=True\n",
    "            )\n",
    "\n",
    "    def equilibrate(self, dt, n):\n",
    "        if not isinstance(n, int):\n",
    "            raise TypeError(\"n must be an integer\")\n",
    "        for _ in range(n):\n",
    "            self._verlet_step(dt)\n",
    "\n",
    "    def measure(self, dt, n):\n",
    "        if not isinstance(n, int):\n",
    "            raise TypeError(\"n must be an integer\")\n",
    "        self._init_data(n)\n",
    "        for i in range(n):\n",
    "            self._update_data(i)\n",
    "            self._verlet_step(dt)\n",
    "        self._update_data(n, g=True)\n",
    "        observables = {\n",
    "            key: np.mean(value) for key, value in self.data.items() if key != \"g\"\n",
    "        }\n",
    "        observables[\"g\"] = self.data[\"g\"]\n",
    "        return observables"
   ]
  },
  {
   "cell_type": "markdown",
   "metadata": {},
   "source": [
    "## a/b)\n",
    "Create a Simulatin with the given parameters"
   ]
  },
  {
   "cell_type": "code",
   "execution_count": 4,
   "metadata": {},
   "outputs": [],
   "source": [
    "ns = [4, 8, 16]\n",
    "paras = [\n",
    "    {\n",
    "        \"L\": 2 * n * SIGMA,\n",
    "        \"N\": n**2,\n",
    "        \"T\": 1,\n",
    "        \"r_cut\": n * SIGMA,\n",
    "        \"potential\": LennardJones,\n",
    "        \"thermostat\": NoThermostat,\n",
    "        \"numBins\": n,\n",
    "    }\n",
    "    for n in ns\n",
    "]\n",
    "mds = [MD(**para) for para in paras]"
   ]
  },
  {
   "cell_type": "code",
   "execution_count": 6,
   "metadata": {},
   "outputs": [
    {
     "data": {
      "application/vnd.jupyter.widget-view+json": {
       "model_id": "777ae8999a064f41afe4b177d19d196b",
       "version_major": 2,
       "version_minor": 0
      },
      "text/plain": [
       "  0%|          | 0/1000 [00:00<?, ?it/s]"
      ]
     },
     "metadata": {},
     "output_type": "display_data"
    },
    {
     "name": "stderr",
     "output_type": "stream",
     "text": [
      "/tmp/ipykernel_34257/2474902126.py:14: RuntimeWarning: divide by zero encountered in divide\n",
      "  self.sigma12 / norm**14 - 0.5 * self.sigma6 / norm**8\n",
      "/tmp/ipykernel_34257/2474902126.py:14: RuntimeWarning: invalid value encountered in subtract\n",
      "  self.sigma12 / norm**14 - 0.5 * self.sigma6 / norm**8\n"
     ]
    },
    {
     "data": {
      "application/vnd.jupyter.widget-view+json": {
       "model_id": "c8df19e17ece4acd9063644e1aa71d39",
       "version_major": 2,
       "version_minor": 0
      },
      "text/plain": [
       "  0%|          | 0/1000 [00:00<?, ?it/s]"
      ]
     },
     "metadata": {},
     "output_type": "display_data"
    },
    {
     "data": {
      "application/vnd.jupyter.widget-view+json": {
       "model_id": "350cbe2baf1040b38976f6fcc98db780",
       "version_major": 2,
       "version_minor": 0
      },
      "text/plain": [
       "  0%|          | 0/1000 [00:00<?, ?it/s]"
      ]
     },
     "metadata": {},
     "output_type": "display_data"
    },
    {
     "data": {
      "image/png": "[encoded data removed]",
      "text/plain": [
       "<Figure size 2500x500 with 3 Axes>"
      ]
     },
     "metadata": {},
     "output_type": "display_data"
    }
   ],
   "source": [
    "from tqdm.notebook import tqdm\n",
    "\n",
    "steps = 1000\n",
    "fig, ax = plt.subplots(1, 3, figsize=(25, 5))\n",
    "for i, md in enumerate(mds):\n",
    "    Ekin = np.zeros(steps)\n",
    "    Epot = np.zeros(steps)\n",
    "    ticks = np.zeros(steps)\n",
    "    for j in tqdm(range(steps)):\n",
    "        observables = md.measure(H, 10)\n",
    "        Ekin[j] = observables[\"Ekin\"]\n",
    "        Epot[j] = observables[\"Epot\"]\n",
    "        ticks[j] = observables[\"t\"]\n",
    "        md.equilibrate(H, 100)\n",
    "    ax[i].plot(ticks, Ekin, label=r\"$E_{kin}$\")\n",
    "    ax[i].plot(ticks, Epot, label=r\"$E_{pot}$\")\n",
    "    ax[i].plot(ticks, Ekin + Epot, label=r\"$E_{tot}$\")\n",
    "    ax[i].legend()\n",
    "    ax[i].set_title(f\"MD with {md.N} particles\")"
   ]
  },
  {
   "cell_type": "code",
   "execution_count": null,
   "metadata": {},
   "outputs": [],
   "source": []
  }
 ],
 "metadata": {
  "kernelspec": {
   "display_name": "base",
   "language": "python",
   "name": "python3"
  },
  "language_info": {
   "codemirror_mode": {
    "name": "ipython",
    "version": 3
   },
   "file_extension": ".py",
   "mimetype": "text/x-python",
   "name": "python",
   "nbconvert_exporter": "python",
   "pygments_lexer": "ipython3",
   "version": "3.11.8"
  }
 },
 "nbformat": 4,
 "nbformat_minor": 2
}
