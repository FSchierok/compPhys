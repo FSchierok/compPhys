{
 "cells": [
  {
   "cell_type": "code",
   "execution_count": 9,
   "id": "35661b57-3417-4e51-89ae-d37f49679ff7",
   "metadata": {},
   "outputs": [],
   "source": [
    "import numpy as np\n",
    "import matplotlib.pyplot as plt\n",
    "import matplotlib\n",
    "matplotlib.rcParams[\"figure.figsize\"] = (15,12)\n",
    "%matplotlib inline"
   ]
  },
  {
   "cell_type": "code",
   "execution_count": 10,
   "id": "19bd6585-e796-4cdc-add8-cce38e9ebf33",
   "metadata": {},
   "outputs": [],
   "source": [
    "def trapezoid(f, a, b, N):  # same as in A3\n",
    "#    x = np.linspace(a, b, N+1)  # We want N intervals, so N+1 points   ##################################################################\n",
    "    h = abs(b - a) / N\n",
    "    result = h / 2 * (f(a) + f(b))\n",
    "    for k in range(1,N):\n",
    "        xk=a+k*h\n",
    "        result+=h*f(xk)\n",
    "#    result += h * np.sum(f(x[1:-1]))  # exclude first and last value     ####################################################################\n",
    "    return result"
   ]
  },
  {
   "cell_type": "code",
   "execution_count": 11,
   "id": "f5dab09e-434d-48fd-91a5-255caf3e9a6b",
   "metadata": {},
   "outputs": [],
   "source": [
    "from functools import partial\n",
    "\n",
    "def z1(x, y):\n",
    "    return np.sqrt(np.clip(1 - x**2 - y**2, 0, None))  # clip to avoid sqrt of negative values\n",
    "\n",
    "\n",
    "def G(x, N):\n",
    "    y1 = np.sqrt(np.clip(1 - x**2,0,None))\n",
    "    F=partial(z1,x)\n",
    "    value = trapezoid(F, 0, y1, N)\n",
    "    return value"
   ]
  },
  {
   "cell_type": "code",
   "execution_count": 12,
   "id": "6dc08ca9-9795-478c-8066-68d1a6172b40",
   "metadata": {},
   "outputs": [
    {
     "name": "stdout",
     "output_type": "stream",
     "text": [
      "numerical Volume: 4.187118028523365\n",
      "true Volume: 4.1887902047863905\n",
      "relative error: 0.00039920267697219274\n"
     ]
    }
   ],
   "source": [
    "N = 100\n",
    "G_N = partial(G,N=100)\n",
    "V_num = 8.0 * trapezoid(G_N, 0, 1, N)\n",
    "print(f\"numerical Volume: {V_num}\")\n",
    "V_true = 4 / 3 * np.pi\n",
    "print(f\"true Volume: {V_true}\")\n",
    "print(f\"relative error: {abs(V_num - V_true) / V_true}\")"
   ]
  },
  {
   "cell_type": "code",
   "execution_count": null,
   "id": "e2a3c73f-21bb-471d-97b2-1ef70628b994",
   "metadata": {},
   "outputs": [],
   "source": []
  },
  {
   "cell_type": "code",
   "execution_count": null,
   "id": "0c7caa10-07b7-4ab8-976e-60d4b686d749",
   "metadata": {},
   "outputs": [],
   "source": []
  }
 ],
 "metadata": {
  "kernelspec": {
   "display_name": "Python 3 (ipykernel)",
   "language": "python",
   "name": "python3"
  },
  "language_info": {
   "codemirror_mode": {
    "name": "ipython",
    "version": 3
   },
   "file_extension": ".py",
   "mimetype": "text/x-python",
   "name": "python",
   "nbconvert_exporter": "python",
   "pygments_lexer": "ipython3",
   "version": "3.9.13"
  }
 },
 "nbformat": 4,
 "nbformat_minor": 5
}
